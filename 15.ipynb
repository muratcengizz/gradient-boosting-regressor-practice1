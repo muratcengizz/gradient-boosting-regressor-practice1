{
 "cells": [
  {
   "cell_type": "markdown",
   "id": "45a3a970-c568-4a5b-ac70-f6472a3500e0",
   "metadata": {},
   "source": [
    "# GradientBoostingMachines (GBM) Regresyon Modeli Kuralım. Üzerinde çalışacağımız veri setinde hız ve yakıt verimliliği isminde 2 değişken olacak. Hıza bağlı olarak yakıt verimliliğini tahmin etmek istediğimizi düşünelim."
   ]
  },
  {
   "cell_type": "code",
   "execution_count": 27,
   "id": "d60bc886-4540-474b-b850-33235c2cfd49",
   "metadata": {},
   "outputs": [],
   "source": [
    "import numpy as np\n",
    "import pandas as pd\n",
    "import seaborn as sns\n",
    "import matplotlib.pyplot as plt\n",
    "from sklearn.ensemble import GradientBoostingRegressor\n",
    "from sklearn.model_selection import train_test_split, GridSearchCV\n",
    "from sklearn.metrics import r2_score, mean_squared_error"
   ]
  },
  {
   "cell_type": "code",
   "execution_count": 28,
   "id": "31414fc6-412e-4d99-98ad-5c8589b32d5b",
   "metadata": {},
   "outputs": [
    {
     "data": {
      "text/html": [
       "<div>\n",
       "<style scoped>\n",
       "    .dataframe tbody tr th:only-of-type {\n",
       "        vertical-align: middle;\n",
       "    }\n",
       "\n",
       "    .dataframe tbody tr th {\n",
       "        vertical-align: top;\n",
       "    }\n",
       "\n",
       "    .dataframe thead th {\n",
       "        text-align: right;\n",
       "    }\n",
       "</style>\n",
       "<table border=\"1\" class=\"dataframe\">\n",
       "  <thead>\n",
       "    <tr style=\"text-align: right;\">\n",
       "      <th></th>\n",
       "      <th>Speed</th>\n",
       "      <th>Fuel Efficiency</th>\n",
       "    </tr>\n",
       "  </thead>\n",
       "  <tbody>\n",
       "    <tr>\n",
       "      <th>0</th>\n",
       "      <td>106.181018</td>\n",
       "      <td>28.688873</td>\n",
       "    </tr>\n",
       "    <tr>\n",
       "      <th>1</th>\n",
       "      <td>192.607146</td>\n",
       "      <td>14.080709</td>\n",
       "    </tr>\n",
       "    <tr>\n",
       "      <th>2</th>\n",
       "      <td>159.799091</td>\n",
       "      <td>19.232377</td>\n",
       "    </tr>\n",
       "    <tr>\n",
       "      <th>3</th>\n",
       "      <td>139.798773</td>\n",
       "      <td>11.521571</td>\n",
       "    </tr>\n",
       "    <tr>\n",
       "      <th>4</th>\n",
       "      <td>73.402796</td>\n",
       "      <td>39.772018</td>\n",
       "    </tr>\n",
       "  </tbody>\n",
       "</table>\n",
       "</div>"
      ],
      "text/plain": [
       "        Speed  Fuel Efficiency\n",
       "0  106.181018        28.688873\n",
       "1  192.607146        14.080709\n",
       "2  159.799091        19.232377\n",
       "3  139.798773        11.521571\n",
       "4   73.402796        39.772018"
      ]
     },
     "execution_count": 28,
     "metadata": {},
     "output_type": "execute_result"
    }
   ],
   "source": [
    "# Veri setini oluşturalım.\n",
    "np.random.seed(42)\n",
    "\n",
    "speed = np.random.uniform(low=50, high=200, size=100)\n",
    "fuel_efficiency = 3000 / speed + np.random.normal(loc=0, scale=5, size=100)\n",
    "\n",
    "data = pd.DataFrame({\n",
    "    'Speed': speed,\n",
    "    'Fuel Efficiency': fuel_efficiency\n",
    "})\n",
    "data.head()"
   ]
  },
  {
   "cell_type": "markdown",
   "id": "ad86bd3b-e095-4ac7-baa7-525fb1ee2e11",
   "metadata": {},
   "source": [
    "# Veri Analizi"
   ]
  },
  {
   "cell_type": "code",
   "execution_count": 29,
   "id": "a1da2c8b-942f-4f30-8c8f-6835630258bb",
   "metadata": {},
   "outputs": [
    {
     "data": {
      "text/html": [
       "<div>\n",
       "<style scoped>\n",
       "    .dataframe tbody tr th:only-of-type {\n",
       "        vertical-align: middle;\n",
       "    }\n",
       "\n",
       "    .dataframe tbody tr th {\n",
       "        vertical-align: top;\n",
       "    }\n",
       "\n",
       "    .dataframe thead th {\n",
       "        text-align: right;\n",
       "    }\n",
       "</style>\n",
       "<table border=\"1\" class=\"dataframe\">\n",
       "  <thead>\n",
       "    <tr style=\"text-align: right;\">\n",
       "      <th></th>\n",
       "      <th>count</th>\n",
       "      <th>mean</th>\n",
       "      <th>std</th>\n",
       "      <th>min</th>\n",
       "      <th>25%</th>\n",
       "      <th>50%</th>\n",
       "      <th>75%</th>\n",
       "      <th>max</th>\n",
       "    </tr>\n",
       "  </thead>\n",
       "  <tbody>\n",
       "    <tr>\n",
       "      <th>Speed</th>\n",
       "      <td>100.0</td>\n",
       "      <td>120.527112</td>\n",
       "      <td>44.623412</td>\n",
       "      <td>50.828318</td>\n",
       "      <td>78.980114</td>\n",
       "      <td>119.621368</td>\n",
       "      <td>159.530468</td>\n",
       "      <td>198.033040</td>\n",
       "    </tr>\n",
       "    <tr>\n",
       "      <th>Fuel Efficiency</th>\n",
       "      <td>100.0</td>\n",
       "      <td>29.087899</td>\n",
       "      <td>13.818648</td>\n",
       "      <td>5.803013</td>\n",
       "      <td>18.286927</td>\n",
       "      <td>25.182637</td>\n",
       "      <td>39.240873</td>\n",
       "      <td>61.631925</td>\n",
       "    </tr>\n",
       "  </tbody>\n",
       "</table>\n",
       "</div>"
      ],
      "text/plain": [
       "                 count        mean        std        min        25%  \\\n",
       "Speed            100.0  120.527112  44.623412  50.828318  78.980114   \n",
       "Fuel Efficiency  100.0   29.087899  13.818648   5.803013  18.286927   \n",
       "\n",
       "                        50%         75%         max  \n",
       "Speed            119.621368  159.530468  198.033040  \n",
       "Fuel Efficiency   25.182637   39.240873   61.631925  "
      ]
     },
     "execution_count": 29,
     "metadata": {},
     "output_type": "execute_result"
    }
   ],
   "source": [
    "data.describe().T"
   ]
  },
  {
   "cell_type": "code",
   "execution_count": 30,
   "id": "6a1af313-a216-4e55-998b-e7d379c63495",
   "metadata": {},
   "outputs": [
    {
     "name": "stdout",
     "output_type": "stream",
     "text": [
      "<class 'pandas.core.frame.DataFrame'>\n",
      "RangeIndex: 100 entries, 0 to 99\n",
      "Data columns (total 2 columns):\n",
      " #   Column           Non-Null Count  Dtype  \n",
      "---  ------           --------------  -----  \n",
      " 0   Speed            100 non-null    float64\n",
      " 1   Fuel Efficiency  100 non-null    float64\n",
      "dtypes: float64(2)\n",
      "memory usage: 1.7 KB\n"
     ]
    }
   ],
   "source": [
    "data.info()"
   ]
  },
  {
   "cell_type": "code",
   "execution_count": 31,
   "id": "afb83ec5-ad96-48ef-9696-be1c378b4b70",
   "metadata": {},
   "outputs": [
    {
     "data": {
      "text/plain": [
       "Speed              1991.248867\n",
       "Fuel Efficiency     190.955020\n",
       "dtype: float64"
      ]
     },
     "execution_count": 31,
     "metadata": {},
     "output_type": "execute_result"
    }
   ],
   "source": [
    "data.var()"
   ]
  },
  {
   "cell_type": "code",
   "execution_count": 32,
   "id": "4d1538ec-6419-411a-9c7f-e6c97042a973",
   "metadata": {},
   "outputs": [
    {
     "data": {
      "text/html": [
       "<div>\n",
       "<style scoped>\n",
       "    .dataframe tbody tr th:only-of-type {\n",
       "        vertical-align: middle;\n",
       "    }\n",
       "\n",
       "    .dataframe tbody tr th {\n",
       "        vertical-align: top;\n",
       "    }\n",
       "\n",
       "    .dataframe thead th {\n",
       "        text-align: right;\n",
       "    }\n",
       "</style>\n",
       "<table border=\"1\" class=\"dataframe\">\n",
       "  <thead>\n",
       "    <tr style=\"text-align: right;\">\n",
       "      <th></th>\n",
       "      <th>Speed</th>\n",
       "      <th>Fuel Efficiency</th>\n",
       "    </tr>\n",
       "  </thead>\n",
       "  <tbody>\n",
       "    <tr>\n",
       "      <th>Speed</th>\n",
       "      <td>1.000000</td>\n",
       "      <td>-0.879232</td>\n",
       "    </tr>\n",
       "    <tr>\n",
       "      <th>Fuel Efficiency</th>\n",
       "      <td>-0.879232</td>\n",
       "      <td>1.000000</td>\n",
       "    </tr>\n",
       "  </tbody>\n",
       "</table>\n",
       "</div>"
      ],
      "text/plain": [
       "                    Speed  Fuel Efficiency\n",
       "Speed            1.000000        -0.879232\n",
       "Fuel Efficiency -0.879232         1.000000"
      ]
     },
     "execution_count": 32,
     "metadata": {},
     "output_type": "execute_result"
    }
   ],
   "source": [
    "data.corr()"
   ]
  },
  {
   "cell_type": "code",
   "execution_count": 33,
   "id": "9e4d6044-2493-44f8-a6ce-751c5d5141ba",
   "metadata": {},
   "outputs": [
    {
     "data": {
      "text/plain": [
       "Speed              False\n",
       "Fuel Efficiency    False\n",
       "dtype: bool"
      ]
     },
     "execution_count": 33,
     "metadata": {},
     "output_type": "execute_result"
    }
   ],
   "source": [
    "data.isnull().any()"
   ]
  },
  {
   "cell_type": "code",
   "execution_count": 34,
   "id": "37a45c1e-a308-4df7-a5c8-3f0566d0acb0",
   "metadata": {},
   "outputs": [
    {
     "data": {
      "image/png": "[encoded data removed]",
      "text/plain": [
       "<Figure size 432x288 with 1 Axes>"
      ]
     },
     "metadata": {
      "needs_background": "light"
     },
     "output_type": "display_data"
    }
   ],
   "source": [
    "sns.boxplot(data=data);"
   ]
  },
  {
   "cell_type": "code",
   "execution_count": 35,
   "id": "7ab71ebc-df50-4727-9d3d-f77231f3ecfb",
   "metadata": {},
   "outputs": [
    {
     "data": {
      "image/png": "[encoded data removed]",
      "text/plain": [
       "<Figure size 432x288 with 1 Axes>"
      ]
     },
     "metadata": {
      "needs_background": "light"
     },
     "output_type": "display_data"
    }
   ],
   "source": [
    "sns.scatterplot(data=data, x='Speed', y='Fuel Efficiency')\n",
    "plt.title('Speed and Fuel Efficiency')\n",
    "plt.xlabel('Speed')\n",
    "plt.ylabel('Fuel Efficiency')\n",
    "plt.show()"
   ]
  },
  {
   "cell_type": "markdown",
   "id": "a0b2fb80-4a88-4a98-ba54-ce6766e5a2c0",
   "metadata": {},
   "source": [
    "# Model "
   ]
  },
  {
   "cell_type": "code",
   "execution_count": 36,
   "id": "0249a805-f1ca-4ea4-9f25-1320e932f10e",
   "metadata": {},
   "outputs": [],
   "source": [
    "# Bağımlı ve bağımsız değişkenleri oluşturalım.\n",
    "X = data['Speed'].values.reshape(-1, 1)\n",
    "y = data['Fuel Efficiency']"
   ]
  },
  {
   "cell_type": "code",
   "execution_count": 37,
   "id": "2f79bca7-50b9-42ff-914e-3bad279cf86c",
   "metadata": {},
   "outputs": [],
   "source": [
    "# Eğitim ve test setlerini ayıralım.\n",
    "X_train, X_test, y_train, y_test = train_test_split(X, y, test_size=0.2, random_state=42)"
   ]
  },
  {
   "cell_type": "code",
   "execution_count": 38,
   "id": "cc95b712-bc7d-40df-9041-cc63c22d2442",
   "metadata": {},
   "outputs": [],
   "source": [
    "# Modeli oluşturalım ve eğitelim.\n",
    "\n",
    "model = GradientBoostingRegressor().fit(X_train, y_train)"
   ]
  },
  {
   "cell_type": "code",
   "execution_count": 39,
   "id": "769d6ee2-88b7-4b63-9969-6f0d1452b81e",
   "metadata": {},
   "outputs": [],
   "source": [
    "# Tahmin yapalım.\n",
    "\n",
    "predict = model.predict(X_test)"
   ]
  },
  {
   "cell_type": "code",
   "execution_count": 40,
   "id": "5a587f0a-a040-4140-8e12-3f410e984fed",
   "metadata": {},
   "outputs": [
    {
     "name": "stdout",
     "output_type": "stream",
     "text": [
      "R^2:  0.9190607927644362\n",
      "MSE:  17.05811994515367\n",
      "RMSE:  4.130147690477142\n"
     ]
    }
   ],
   "source": [
    "# Modeli değerlendirelim.\n",
    "\n",
    "r2 = r2_score(y_test, predict)\n",
    "mse = mean_squared_error(y_test, predict)\n",
    "rmse = np.sqrt(mse)\n",
    "\n",
    "print('R^2: ', r2)\n",
    "print('MSE: ', mse)\n",
    "print('RMSE: ', rmse)"
   ]
  },
  {
   "cell_type": "markdown",
   "id": "745e1cac-25e5-4c45-82af-5dfb8a53af3f",
   "metadata": {},
   "source": [
    "# Model Tuning"
   ]
  },
  {
   "cell_type": "code",
   "execution_count": 41,
   "id": "becfb79a-be2e-4347-8637-d21749d55ff4",
   "metadata": {},
   "outputs": [
    {
     "name": "stdout",
     "output_type": "stream",
     "text": [
      "Best Params:  {'learning_rate': 0.1, 'max_depth': 7, 'max_features': None, 'min_samples_leaf': 4, 'min_samples_split': 10, 'n_estimators': 50}\n",
      "Best Score:  0.7940036549715173\n"
     ]
    }
   ],
   "source": [
    "params = {\n",
    "    'n_estimators': [50, 100, 150],\n",
    "    'learning_rate': [0.01, 0.1, 1.0],\n",
    "    'max_depth': [3, 5, 7],\n",
    "    'min_samples_split': [2, 5, 10],\n",
    "    'min_samples_leaf': [1, 2, 4],\n",
    "    'max_features': [None, 'sqrt', 'log2']\n",
    "}\n",
    "\n",
    "grid = GridSearchCV(estimator=model, param_grid=params, cv=5)\n",
    "grid.fit(X_train, y_train)\n",
    "\n",
    "best_params = grid.best_params_\n",
    "best_score = grid.best_score_\n",
    "\n",
    "print('Best Params: ', best_params)\n",
    "print('Best Score: ', best_score)"
   ]
  },
  {
   "cell_type": "code",
   "execution_count": 42,
   "id": "ac6e0e0f-246e-4439-8d1c-60d9e6edadf1",
   "metadata": {
    "tags": []
   },
   "outputs": [
    {
     "data": {
      "image/png": "[encoded data removed]",
      "text/plain": [
       "<Figure size 432x288 with 1 Axes>"
      ]
     },
     "metadata": {
      "needs_background": "light"
     },
     "output_type": "display_data"
    }
   ],
   "source": [
    "plt.scatter(X_test, y_test, color='blue', label='Gerçek Değerler')\n",
    "plt.scatter(X_test, predict, color='red', label='Tahminler')\n",
    "plt.title('Yakıt Verimliliği Tahminleri')\n",
    "plt.xlabel('Hız')\n",
    "plt.ylabel('Yakıt Verimliliği')\n",
    "plt.legend()\n",
    "plt.show()"
   ]
  },
  {
   "cell_type": "markdown",
   "id": "ea2c6ded-7b99-4a80-b072-4ed324711f74",
   "metadata": {},
   "source": [
    "# Tahmin"
   ]
  },
  {
   "cell_type": "code",
   "execution_count": 43,
   "id": "6d4c0b6d-aac2-4db9-b40c-620a8c4d70ad",
   "metadata": {},
   "outputs": [
    {
     "name": "stdin",
     "output_type": "stream",
     "text": [
      "Lütfen Ortalama Hızınızı Giriniz:  140\n"
     ]
    },
    {
     "name": "stdout",
     "output_type": "stream",
     "text": [
      "Tahmini Yakut Verimliliğiniz: 17.93\n"
     ]
    }
   ],
   "source": [
    "speed = int(input('Lütfen Ortalama Hızınızı Giriniz: '))\n",
    "\n",
    "user_pred = model.predict([[speed]])\n",
    "\n",
    "print(f'Tahmini Yakut Verimliliğiniz: {float(user_pred):.2f}')"
   ]
  }
 ],
 "metadata": {
  "kernelspec": {
   "display_name": "Python 3 (ipykernel)",
   "language": "python",
   "name": "python3"
  },
  "language_info": {
   "codemirror_mode": {
    "name": "ipython",
    "version": 3
   },
   "file_extension": ".py",
   "mimetype": "text/x-python",
   "name": "python",
   "nbconvert_exporter": "python",
   "pygments_lexer": "ipython3",
   "version": "3.9.12"
  }
 },
 "nbformat": 4,
 "nbformat_minor": 5
}
